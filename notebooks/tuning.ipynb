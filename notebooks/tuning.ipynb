{
 "cells": [
  {
   "cell_type": "markdown",
   "metadata": {},
   "source": [
    "Notebook containing code for optimizing hyperparameters with Optuna."
   ]
  },
  {
   "cell_type": "code",
   "execution_count": 8,
   "metadata": {},
   "outputs": [
    {
     "name": "stderr",
     "output_type": "stream",
     "text": [
      "[I 2024-08-08 12:19:46,921] A new study created in memory with name: no-name-d7c4b798-e376-452e-97ab-c2cffbd36a3f\n"
     ]
    },
    {
     "name": "stdout",
     "output_type": "stream",
     "text": [
      "Discrete: ['Latitude', 'Longitude', 'Altitude']\n",
      "Temporal: ['month', 'hour']\n",
      "Continuous: ['Humidity', 'AmbientTemp', 'Wind.Speed', 'Visibility', 'Pressure', 'Cloud.Ceiling']\n",
      "Categorical: ['Location', 'Season']\n"
     ]
    },
    {
     "name": "stderr",
     "output_type": "stream",
     "text": [
      "[I 2024-08-08 12:19:48,569] Trial 0 finished with value: 0.6621812102517947 and parameters: {'eta': 0.025547287538706612, 'max_depth': 6, 'subsample': 0.5985161440526399, 'colsample_bytree': 0.6214024416380315, 'gamma': 4.924928443849076, 'min_child_weight': 9.02128975139662, 'lambda': 3.4145968721082713, 'alpha': 9.383010582462235}. Best is trial 0 with value: 0.6621812102517947.\n",
      "[I 2024-08-08 12:19:49,961] Trial 1 finished with value: 0.6652560254845852 and parameters: {'eta': 0.02377136305324193, 'max_depth': 8, 'subsample': 0.5334303515260135, 'colsample_bytree': 0.5523071601943315, 'gamma': 0.7186606504361459, 'min_child_weight': 9.067439245190764, 'lambda': 4.803223191465828, 'alpha': 0.22004896148961617}. Best is trial 1 with value: 0.6652560254845852.\n",
      "[I 2024-08-08 12:19:51,899] Trial 2 finished with value: 0.6586167199080535 and parameters: {'eta': 0.029989827298090514, 'max_depth': 4, 'subsample': 0.7813650864550068, 'colsample_bytree': 0.5897703230636857, 'gamma': 3.101337197963484, 'min_child_weight': 3.27114738122962, 'lambda': 8.854690610394957, 'alpha': 2.874421340855892}. Best is trial 1 with value: 0.6652560254845852.\n",
      "[I 2024-08-08 12:19:52,603] Trial 3 finished with value: 0.6585248586448889 and parameters: {'eta': 0.11395439063891294, 'max_depth': 10, 'subsample': 0.7651260388413695, 'colsample_bytree': 0.7886471765904193, 'gamma': 3.0037622294284914, 'min_child_weight': 5.99008595966245, 'lambda': 3.8072200318857785, 'alpha': 5.585120170857585}. Best is trial 1 with value: 0.6652560254845852.\n",
      "[I 2024-08-08 12:19:53,324] Trial 4 finished with value: 0.659021836098457 and parameters: {'eta': 0.06608025508938493, 'max_depth': 10, 'subsample': 0.9853829906343252, 'colsample_bytree': 0.5437202680043347, 'gamma': 5.741615196804391, 'min_child_weight': 4.463016948724147, 'lambda': 2.4694964150267884, 'alpha': 9.66564143592098}. Best is trial 1 with value: 0.6652560254845852.\n",
      "[I 2024-08-08 12:19:53,768] Trial 5 finished with value: 0.6475054935481621 and parameters: {'eta': 0.2901863960148587, 'max_depth': 8, 'subsample': 0.5267067029993151, 'colsample_bytree': 0.800831647482988, 'gamma': 4.575527168180658, 'min_child_weight': 5.405467869638795, 'lambda': 6.551565526530735, 'alpha': 8.487768303109274}. Best is trial 1 with value: 0.6652560254845852.\n",
      "[I 2024-08-08 12:19:54,470] Trial 6 finished with value: 0.6607533401032524 and parameters: {'eta': 0.07833320539863108, 'max_depth': 5, 'subsample': 0.9586143766717778, 'colsample_bytree': 0.7267071684011915, 'gamma': 2.8047746255411643, 'min_child_weight': 9.669931529567931, 'lambda': 8.559931046701555, 'alpha': 7.116453854770866}. Best is trial 1 with value: 0.6652560254845852.\n",
      "[I 2024-08-08 12:19:55,190] Trial 7 finished with value: 0.6584000776785519 and parameters: {'eta': 0.15836579086543967, 'max_depth': 4, 'subsample': 0.9076828802115331, 'colsample_bytree': 0.5994914451425297, 'gamma': 9.505901419775114, 'min_child_weight': 8.862142440259708, 'lambda': 5.92894474564685, 'alpha': 5.276895768850125}. Best is trial 1 with value: 0.6652560254845852.\n",
      "[I 2024-08-08 12:19:55,653] Trial 8 finished with value: 0.6357779553569719 and parameters: {'eta': 0.2677739589594964, 'max_depth': 9, 'subsample': 0.6062331584568339, 'colsample_bytree': 0.9317186756484925, 'gamma': 7.1085803850538785, 'min_child_weight': 5.30843498055146, 'lambda': 1.4196538640611518, 'alpha': 1.430950482547273}. Best is trial 1 with value: 0.6652560254845852.\n",
      "[I 2024-08-08 12:19:56,232] Trial 9 finished with value: 0.6567464610308331 and parameters: {'eta': 0.11112546357367756, 'max_depth': 10, 'subsample': 0.9888717981619378, 'colsample_bytree': 0.5812779439145227, 'gamma': 8.806166184386278, 'min_child_weight': 7.320898928189181, 'lambda': 0.7482778226864919, 'alpha': 3.559326571281355}. Best is trial 1 with value: 0.6652560254845852.\n",
      "[I 2024-08-08 12:19:56,676] Trial 10 finished with value: 0.655952268517077 and parameters: {'eta': 0.19705693095605958, 'max_depth': 7, 'subsample': 0.6569243217137628, 'colsample_bytree': 0.69471197339145, 'gamma': 0.13138595937974673, 'min_child_weight': 0.5274628953714657, 'lambda': 6.840640780744807, 'alpha': 0.9094420187814906}. Best is trial 1 with value: 0.6652560254845852.\n",
      "[I 2024-08-08 12:19:59,100] Trial 11 finished with value: 0.6638484881006612 and parameters: {'eta': 0.017060842686855288, 'max_depth': 6, 'subsample': 0.5289899444571062, 'colsample_bytree': 0.5067084788103374, 'gamma': 0.030894133288226433, 'min_child_weight': 8.063145661556245, 'lambda': 4.34389802602165, 'alpha': 7.394121557063783}. Best is trial 1 with value: 0.6652560254845852.\n",
      "[I 2024-08-08 12:20:00,535] Trial 12 finished with value: 0.6630200708952319 and parameters: {'eta': 0.02458441232444991, 'max_depth': 7, 'subsample': 0.5050792686461713, 'colsample_bytree': 0.5028992957627002, 'gamma': 0.01570014077823112, 'min_child_weight': 7.502669357480981, 'lambda': 4.662083303832173, 'alpha': 6.9917671173695775}. Best is trial 1 with value: 0.6652560254845852.\n",
      "[I 2024-08-08 12:20:01,343] Trial 13 finished with value: 0.6628065925462646 and parameters: {'eta': 0.06981870870373949, 'max_depth': 6, 'subsample': 0.6904789690615355, 'colsample_bytree': 0.6706075575679086, 'gamma': 1.402055324651515, 'min_child_weight': 7.560470495707309, 'lambda': 5.025354957130943, 'alpha': 3.65147728126111}. Best is trial 1 with value: 0.6652560254845852.\n",
      "[I 2024-08-08 12:20:02,058] Trial 14 finished with value: 0.6512651074115361 and parameters: {'eta': 0.20269091495465447, 'max_depth': 8, 'subsample': 0.5603786462739104, 'colsample_bytree': 0.5015357406980158, 'gamma': 1.5181907101935324, 'min_child_weight': 9.990003611162694, 'lambda': 2.386453511414709, 'alpha': 7.1324264263389265}. Best is trial 1 with value: 0.6652560254845852.\n",
      "[I 2024-08-08 12:20:09,455] Trial 15 finished with value: 0.6556631095688246 and parameters: {'eta': 0.010272949973518642, 'max_depth': 3, 'subsample': 0.8297072962256341, 'colsample_bytree': 0.9064069131182406, 'gamma': 1.0958682876781232, 'min_child_weight': 8.09972717296059, 'lambda': 4.036730695359337, 'alpha': 0.23504660143200518}. Best is trial 1 with value: 0.6652560254845852.\n",
      "[I 2024-08-08 12:20:09,977] Trial 16 finished with value: 0.6575357858898008 and parameters: {'eta': 0.1146518639706361, 'max_depth': 8, 'subsample': 0.6814346959257628, 'colsample_bytree': 0.9954167099192167, 'gamma': 2.147696235511506, 'min_child_weight': 6.415049252260561, 'lambda': 7.545019975305181, 'alpha': 2.0696824643915477}. Best is trial 1 with value: 0.6652560254845852.\n",
      "[I 2024-08-08 12:20:10,935] Trial 17 finished with value: 0.6617206212372743 and parameters: {'eta': 0.05529468554437421, 'max_depth': 5, 'subsample': 0.5853112295696431, 'colsample_bytree': 0.6529195702611231, 'gamma': 4.109470265470377, 'min_child_weight': 3.0899217935603778, 'lambda': 5.656642563643286, 'alpha': 4.461991695302136}. Best is trial 1 with value: 0.6652560254845852.\n",
      "[I 2024-08-08 12:20:11,428] Trial 18 finished with value: 0.6551783950145694 and parameters: {'eta': 0.1387367642319604, 'max_depth': 7, 'subsample': 0.6351742243519767, 'colsample_bytree': 0.5487099066092735, 'gamma': 6.064075538503642, 'min_child_weight': 8.365547058706412, 'lambda': 2.5719162828690108, 'alpha': 5.939470937465364}. Best is trial 1 with value: 0.6652560254845852.\n",
      "[I 2024-08-08 12:20:11,792] Trial 19 finished with value: 0.6492329388037616 and parameters: {'eta': 0.18812315027552215, 'max_depth': 5, 'subsample': 0.545438786548661, 'colsample_bytree': 0.7694336105462793, 'gamma': 0.9579951753247294, 'min_child_weight': 6.722159421514452, 'lambda': 7.67870857382936, 'alpha': 8.344841891335147}. Best is trial 1 with value: 0.6652560254845852.\n",
      "[I 2024-08-08 12:20:12,185] Trial 20 finished with value: 0.6526111574551541 and parameters: {'eta': 0.23634498561351547, 'max_depth': 9, 'subsample': 0.72406323457996, 'colsample_bytree': 0.8492969176190146, 'gamma': 7.8838335246729505, 'min_child_weight': 4.202984482557503, 'lambda': 5.01214280576673, 'alpha': 0.006078417958222421}. Best is trial 1 with value: 0.6652560254845852.\n",
      "[I 2024-08-08 12:20:13,113] Trial 21 finished with value: 0.6623546439097705 and parameters: {'eta': 0.04281755921768904, 'max_depth': 7, 'subsample': 0.5008002249591766, 'colsample_bytree': 0.5010021436409869, 'gamma': 0.1098642312125443, 'min_child_weight': 7.31932180160408, 'lambda': 4.420294351925869, 'alpha': 6.948684680538409}. Best is trial 1 with value: 0.6652560254845852.\n",
      "[I 2024-08-08 12:20:13,726] Trial 22 finished with value: 0.6616462927168738 and parameters: {'eta': 0.08894277107716388, 'max_depth': 6, 'subsample': 0.5046901342255578, 'colsample_bytree': 0.548465682469816, 'gamma': 0.09943764577955055, 'min_child_weight': 8.99816147903319, 'lambda': 3.160771271514384, 'alpha': 6.393394455361886}. Best is trial 1 with value: 0.6652560254845852.\n",
      "[I 2024-08-08 12:20:15,697] Trial 23 finished with value: 0.6636810797530273 and parameters: {'eta': 0.016169175105775438, 'max_depth': 8, 'subsample': 0.550394975554099, 'colsample_bytree': 0.5075063238642095, 'gamma': 2.0820640505797945, 'min_child_weight': 8.123446338573219, 'lambda': 9.760844167709475, 'alpha': 8.063126896044357}. Best is trial 1 with value: 0.6652560254845852.\n",
      "[I 2024-08-08 12:20:18,743] Trial 24 finished with value: 0.6645586905470152 and parameters: {'eta': 0.010291679118211567, 'max_depth': 9, 'subsample': 0.5686686755677917, 'colsample_bytree': 0.6307484582801697, 'gamma': 2.3664866018108652, 'min_child_weight': 8.283672075929681, 'lambda': 5.875539942075132, 'alpha': 8.220135515362726}. Best is trial 1 with value: 0.6652560254845852.\n",
      "[I 2024-08-08 12:20:19,858] Trial 25 finished with value: 0.6619005325964764 and parameters: {'eta': 0.052667128502537214, 'max_depth': 9, 'subsample': 0.6149908852679445, 'colsample_bytree': 0.6375294545147611, 'gamma': 3.694473639609433, 'min_child_weight': 9.22953808967823, 'lambda': 5.837586408734722, 'alpha': 8.866972701025237}. Best is trial 1 with value: 0.6652560254845852.\n",
      "[I 2024-08-08 12:20:20,462] Trial 26 finished with value: 0.6575154900271853 and parameters: {'eta': 0.09107993895253177, 'max_depth': 9, 'subsample': 0.5662912999336784, 'colsample_bytree': 0.713711966163143, 'gamma': 2.138733311712051, 'min_child_weight': 6.698660594260897, 'lambda': 6.734450759925922, 'alpha': 7.753299241974265}. Best is trial 1 with value: 0.6652560254845852.\n",
      "[I 2024-08-08 12:20:21,299] Trial 27 finished with value: 0.6622539783419088 and parameters: {'eta': 0.04725532238926602, 'max_depth': 8, 'subsample': 0.6537228693952788, 'colsample_bytree': 0.5675258876182784, 'gamma': 0.9555043386215503, 'min_child_weight': 0.6107762962734471, 'lambda': 1.5725480028318732, 'alpha': 4.379444329835047}. Best is trial 1 with value: 0.6652560254845852.\n",
      "[I 2024-08-08 12:20:24,522] Trial 28 finished with value: 0.6629484129413066 and parameters: {'eta': 0.010600975526652033, 'max_depth': 9, 'subsample': 0.857259840410806, 'colsample_bytree': 0.6125084539020781, 'gamma': 0.7626615866327491, 'min_child_weight': 8.337088642668027, 'lambda': 5.536543376643824, 'alpha': 9.157725921988405}. Best is trial 1 with value: 0.6652560254845852.\n",
      "[I 2024-08-08 12:20:25,532] Trial 29 finished with value: 0.6621919697375722 and parameters: {'eta': 0.03768969486614206, 'max_depth': 6, 'subsample': 0.5790744110627839, 'colsample_bytree': 0.6236301462117725, 'gamma': 1.7888174272775974, 'min_child_weight': 9.06532837415854, 'lambda': 3.4323434360929452, 'alpha': 6.149529167838472}. Best is trial 1 with value: 0.6652560254845852.\n",
      "[I 2024-08-08 12:20:26,704] Trial 30 finished with value: 0.6651790765595154 and parameters: {'eta': 0.03226403692274281, 'max_depth': 7, 'subsample': 0.6093312076530903, 'colsample_bytree': 0.5367361856563402, 'gamma': 2.576656366033032, 'min_child_weight': 9.60254880452161, 'lambda': 4.128432984062513, 'alpha': 9.955622690727127}. Best is trial 1 with value: 0.6652560254845852.\n",
      "[I 2024-08-08 12:20:27,931] Trial 31 finished with value: 0.6646456888513638 and parameters: {'eta': 0.031361263497197714, 'max_depth': 7, 'subsample': 0.6103921417642446, 'colsample_bytree': 0.5376976400928146, 'gamma': 2.4938077480336567, 'min_child_weight': 9.703745994359258, 'lambda': 4.2722878772607675, 'alpha': 9.88635165741696}. Best is trial 1 with value: 0.6652560254845852.\n",
      "[I 2024-08-08 12:20:28,989] Trial 32 finished with value: 0.6640156345384309 and parameters: {'eta': 0.03915392624176226, 'max_depth': 7, 'subsample': 0.6077166746904282, 'colsample_bytree': 0.5485805282112404, 'gamma': 3.376757135325917, 'min_child_weight': 9.958997502469762, 'lambda': 3.023589948988348, 'alpha': 9.897156850058568}. Best is trial 1 with value: 0.6652560254845852.\n",
      "[I 2024-08-08 12:20:30,111] Trial 33 finished with value: 0.6623969766513407 and parameters: {'eta': 0.03276209702211352, 'max_depth': 8, 'subsample': 0.7125490163192385, 'colsample_bytree': 0.5841347940515587, 'gamma': 2.575695371722318, 'min_child_weight': 9.23330877679561, 'lambda': 3.9246236309652023, 'alpha': 9.180281825426166}. Best is trial 1 with value: 0.6652560254845852.\n",
      "[I 2024-08-08 12:20:30,784] Trial 34 finished with value: 0.6615850103706828 and parameters: {'eta': 0.06439302496881619, 'max_depth': 7, 'subsample': 0.6339889426577968, 'colsample_bytree': 0.6638958746175458, 'gamma': 3.99026901724123, 'min_child_weight': 9.556238153736714, 'lambda': 5.301383336429405, 'alpha': 9.743110541708491}. Best is trial 1 with value: 0.6652560254845852.\n",
      "[I 2024-08-08 12:20:31,416] Trial 35 finished with value: 0.6602634813722372 and parameters: {'eta': 0.08873897207710851, 'max_depth': 10, 'subsample': 0.7479055388359029, 'colsample_bytree': 0.5337440160988587, 'gamma': 4.781852436961786, 'min_child_weight': 8.720219716365005, 'lambda': 6.248933340282543, 'alpha': 9.986926301179793}. Best is trial 1 with value: 0.6652560254845852.\n",
      "[I 2024-08-08 12:20:32,821] Trial 36 finished with value: 0.6642929461236994 and parameters: {'eta': 0.026123078720470844, 'max_depth': 8, 'subsample': 0.5795648354121716, 'colsample_bytree': 0.6070825273238749, 'gamma': 2.8715330220401754, 'min_child_weight': 9.461606666947766, 'lambda': 7.239116269844997, 'alpha': 8.385739093017381}. Best is trial 1 with value: 0.6652560254845852.\n",
      "[I 2024-08-08 12:20:33,667] Trial 37 finished with value: 0.6620033736401119 and parameters: {'eta': 0.057133729568915506, 'max_depth': 9, 'subsample': 0.6684784833648608, 'colsample_bytree': 0.5698207474777447, 'gamma': 5.968464249362407, 'min_child_weight': 3.004483682310683, 'lambda': 4.663673561605518, 'alpha': 8.822220629841627}. Best is trial 1 with value: 0.6652560254845852.\n",
      "[I 2024-08-08 12:20:34,237] Trial 38 finished with value: 0.659119394972238 and parameters: {'eta': 0.1109408003785584, 'max_depth': 7, 'subsample': 0.5304517704792118, 'colsample_bytree': 0.5328237312649233, 'gamma': 5.348794484211435, 'min_child_weight': 5.959885033072995, 'lambda': 6.1055317634482815, 'alpha': 9.424119856710638}. Best is trial 1 with value: 0.6652560254845852.\n",
      "[I 2024-08-08 12:20:34,913] Trial 39 finished with value: 0.6616571151766864 and parameters: {'eta': 0.07523945960728279, 'max_depth': 10, 'subsample': 0.6115098198209873, 'colsample_bytree': 0.6373070563335081, 'gamma': 2.5269582132926542, 'min_child_weight': 1.2763160812314203, 'lambda': 3.8344894791874644, 'alpha': 2.640988808556706}. Best is trial 1 with value: 0.6652560254845852.\n",
      "[I 2024-08-08 12:20:35,389] Trial 40 finished with value: 0.6636151886456463 and parameters: {'eta': 0.13705673189662615, 'max_depth': 8, 'subsample': 0.7975198699028458, 'colsample_bytree': 0.6862888678972245, 'gamma': 3.325808992254533, 'min_child_weight': 9.999478102948514, 'lambda': 8.259875357843704, 'alpha': 8.94004496836665}. Best is trial 1 with value: 0.6652560254845852.\n",
      "[I 2024-08-08 12:20:36,865] Trial 41 finished with value: 0.6635791829780784 and parameters: {'eta': 0.02568479072234038, 'max_depth': 8, 'subsample': 0.5885831015229843, 'colsample_bytree': 0.5935959996064988, 'gamma': 2.8909338412142, 'min_child_weight': 9.439662749620425, 'lambda': 7.509499463694731, 'alpha': 8.419243485272444}. Best is trial 1 with value: 0.6652560254845852.\n",
      "[I 2024-08-08 12:20:38,105] Trial 42 finished with value: 0.6631705167422859 and parameters: {'eta': 0.029817950806101584, 'max_depth': 8, 'subsample': 0.6408562161740258, 'colsample_bytree': 0.6110180995910142, 'gamma': 3.0570586376795434, 'min_child_weight': 8.790000672481623, 'lambda': 6.709972838112668, 'alpha': 7.894647523889727}. Best is trial 1 with value: 0.6652560254845852.\n",
      "[I 2024-08-08 12:20:39,446] Trial 43 finished with value: 0.6662327759252489 and parameters: {'eta': 0.02532227240864557, 'max_depth': 9, 'subsample': 0.5701902725252715, 'colsample_bytree': 0.5700791751417876, 'gamma': 4.468310078336034, 'min_child_weight': 9.562538361029706, 'lambda': 7.292064154574558, 'alpha': 9.313263852489994}. Best is trial 43 with value: 0.6662327759252489.\n",
      "[I 2024-08-08 12:20:40,435] Trial 44 finished with value: 0.6613944311131781 and parameters: {'eta': 0.039593116549612686, 'max_depth': 9, 'subsample': 0.5365055747972076, 'colsample_bytree': 0.5713558301969646, 'gamma': 4.330525265170685, 'min_child_weight': 8.604985921885522, 'lambda': 5.03488525256551, 'alpha': 9.506129242785901}. Best is trial 43 with value: 0.6662327759252489.\n",
      "[I 2024-08-08 12:20:41,266] Trial 45 finished with value: 0.6624344440411543 and parameters: {'eta': 0.060167766118085095, 'max_depth': 9, 'subsample': 0.5671593243778118, 'colsample_bytree': 0.5292469948910389, 'gamma': 5.154095292631518, 'min_child_weight': 7.76642376324183, 'lambda': 9.081437955308372, 'alpha': 9.278259271199843}. Best is trial 43 with value: 0.6662327759252489.\n",
      "[I 2024-08-08 12:20:43,584] Trial 46 finished with value: 0.6636304358056482 and parameters: {'eta': 0.016867381471513412, 'max_depth': 10, 'subsample': 0.6139928512203684, 'colsample_bytree': 0.564479753163944, 'gamma': 6.613970607847571, 'min_child_weight': 9.683670190307694, 'lambda': 6.30061850745396, 'alpha': 9.942579938863878}. Best is trial 43 with value: 0.6662327759252489.\n",
      "[I 2024-08-08 12:20:43,943] Trial 47 finished with value: 0.6400281508600345 and parameters: {'eta': 0.29791245850793, 'max_depth': 7, 'subsample': 0.5150777541047242, 'colsample_bytree': 0.5247851989636172, 'gamma': 0.6017956570491663, 'min_child_weight': 7.142473257019532, 'lambda': 4.331368225994715, 'alpha': 7.514486945986361}. Best is trial 43 with value: 0.6662327759252489.\n",
      "[I 2024-08-08 12:20:44,577] Trial 48 finished with value: 0.6585316006890971 and parameters: {'eta': 0.07915560875621866, 'max_depth': 10, 'subsample': 0.5590819240454244, 'colsample_bytree': 0.7443313524872569, 'gamma': 1.5906876632778049, 'min_child_weight': 7.8529558149207634, 'lambda': 3.503437859713222, 'alpha': 1.6886112901174795}. Best is trial 43 with value: 0.6662327759252489.\n",
      "[I 2024-08-08 12:20:45,463] Trial 49 finished with value: 0.6626697220879187 and parameters: {'eta': 0.044197124849714914, 'max_depth': 8, 'subsample': 0.6934786839474136, 'colsample_bytree': 0.817389343433254, 'gamma': 3.722558173437795, 'min_child_weight': 8.588399684166268, 'lambda': 7.12129539247271, 'alpha': 5.33533309985539}. Best is trial 43 with value: 0.6662327759252489.\n",
      "[I 2024-08-08 12:20:47,415] Trial 50 finished with value: 0.6617522029773173 and parameters: {'eta': 0.02248477437308663, 'max_depth': 5, 'subsample': 0.9103900845574712, 'colsample_bytree': 0.5893823718459275, 'gamma': 2.455127686901734, 'min_child_weight': 9.082609238028029, 'lambda': 8.08962055557213, 'alpha': 0.608760099488654}. Best is trial 43 with value: 0.6662327759252489.\n",
      "[I 2024-08-08 12:20:49,125] Trial 51 finished with value: 0.6634284371446233 and parameters: {'eta': 0.0320742651218868, 'max_depth': 9, 'subsample': 0.594528685611998, 'colsample_bytree': 0.6016860309760389, 'gamma': 1.8928827195091547, 'min_child_weight': 9.603564005703644, 'lambda': 8.8068335924204, 'alpha': 8.512599788455454}. Best is trial 43 with value: 0.6662327759252489.\n",
      "[I 2024-08-08 12:20:51,344] Trial 52 finished with value: 0.6647580477320318 and parameters: {'eta': 0.021011114590446304, 'max_depth': 7, 'subsample': 0.5282363192413484, 'colsample_bytree': 0.6301272200754715, 'gamma': 3.3069139231919666, 'min_child_weight': 9.43107329221515, 'lambda': 5.360214102831881, 'alpha': 8.152832109561766}. Best is trial 43 with value: 0.6662327759252489.\n",
      "[I 2024-08-08 12:20:54,329] Trial 53 finished with value: 0.6643492273999485 and parameters: {'eta': 0.013675209250141488, 'max_depth': 7, 'subsample': 0.5327872837144919, 'colsample_bytree': 0.635976824874902, 'gamma': 3.5006766932595603, 'min_child_weight': 9.990615945759417, 'lambda': 5.269425435184225, 'alpha': 8.75302913227416}. Best is trial 43 with value: 0.6662327759252489.\n",
      "[I 2024-08-08 12:20:55,205] Trial 54 finished with value: 0.662225050682529 and parameters: {'eta': 0.049731956378662026, 'max_depth': 6, 'subsample': 0.5197379445439321, 'colsample_bytree': 0.557462815546336, 'gamma': 4.347616283297102, 'min_child_weight': 8.37562894590785, 'lambda': 4.7563037955299645, 'alpha': 9.52100302570874}. Best is trial 43 with value: 0.6662327759252489.\n",
      "[I 2024-08-08 12:20:55,578] Trial 55 finished with value: 0.6458386934509246 and parameters: {'eta': 0.2587579001743206, 'max_depth': 7, 'subsample': 0.5541403400026234, 'colsample_bytree': 0.5228107996205007, 'gamma': 1.212554738370393, 'min_child_weight': 8.89273770009956, 'lambda': 5.790914388814788, 'alpha': 6.729834689326785}. Best is trial 43 with value: 0.6662327759252489.\n",
      "[I 2024-08-08 12:20:56,416] Trial 56 finished with value: 0.6630788644567052 and parameters: {'eta': 0.0668619941081651, 'max_depth': 6, 'subsample': 0.6276515849210305, 'colsample_bytree': 0.6463836167595031, 'gamma': 3.9441611723775982, 'min_child_weight': 9.31049863586284, 'lambda': 4.192443539240869, 'alpha': 8.046987634968936}. Best is trial 43 with value: 0.6662327759252489.\n",
      "[I 2024-08-08 12:20:56,907] Trial 57 finished with value: 0.6550578443059624 and parameters: {'eta': 0.17980016101408852, 'max_depth': 7, 'subsample': 0.5737918323465069, 'colsample_bytree': 0.6808669974397166, 'gamma': 2.4023606288670543, 'min_child_weight': 4.912942904862055, 'lambda': 4.656025559579598, 'alpha': 7.372949540508389}. Best is trial 43 with value: 0.6662327759252489.\n",
      "[I 2024-08-08 12:21:00,316] Trial 58 finished with value: 0.6558031559224178 and parameters: {'eta': 0.02201207141647614, 'max_depth': 3, 'subsample': 0.5969906670161602, 'colsample_bytree': 0.7101137907207731, 'gamma': 4.660024061152576, 'min_child_weight': 3.5887262956316692, 'lambda': 2.0953864132415747, 'alpha': 4.560507520225462}. Best is trial 43 with value: 0.6662327759252489.\n",
      "[I 2024-08-08 12:21:01,362] Trial 59 finished with value: 0.6623223578553948 and parameters: {'eta': 0.0495832790699179, 'max_depth': 8, 'subsample': 0.5484723963416283, 'colsample_bytree': 0.6234173795099502, 'gamma': 3.139286391979944, 'min_child_weight': 9.6789253619683, 'lambda': 5.372927308222309, 'alpha': 3.2114701757302093}. Best is trial 43 with value: 0.6662327759252489.\n",
      "[I 2024-08-08 12:21:04,376] Trial 60 finished with value: 0.6646200140551461 and parameters: {'eta': 0.011028313990047379, 'max_depth': 9, 'subsample': 0.5166081397499205, 'colsample_bytree': 0.581134105272679, 'gamma': 0.6234486261219354, 'min_child_weight': 8.251917316838982, 'lambda': 0.11493928634615003, 'alpha': 9.601851763996141}. Best is trial 43 with value: 0.6662327759252489.\n",
      "[I 2024-08-08 12:21:06,786] Trial 61 finished with value: 0.6650243472377824 and parameters: {'eta': 0.011882345438793154, 'max_depth': 9, 'subsample': 0.5183579954456139, 'colsample_bytree': 0.580510078450688, 'gamma': 0.5939112943867817, 'min_child_weight': 8.056032855412436, 'lambda': 0.656539712835805, 'alpha': 9.604562998463498}. Best is trial 43 with value: 0.6662327759252489.\n",
      "[I 2024-08-08 12:21:08,008] Trial 62 finished with value: 0.6634423388853359 and parameters: {'eta': 0.03227849138878585, 'max_depth': 9, 'subsample': 0.5022990753862808, 'colsample_bytree': 0.586239351063227, 'gamma': 0.5150468857924893, 'min_child_weight': 7.9149451021161035, 'lambda': 0.21736846564704257, 'alpha': 9.105080359446587}. Best is trial 43 with value: 0.6662327759252489.\n",
      "[I 2024-08-08 12:21:09,667] Trial 63 finished with value: 0.6660078291729604 and parameters: {'eta': 0.021386751413333238, 'max_depth': 8, 'subsample': 0.5189940160942649, 'colsample_bytree': 0.5465318315910391, 'gamma': 1.338889490498263, 'min_child_weight': 7.076908622788656, 'lambda': 0.8194044807265879, 'alpha': 9.62298226346659}. Best is trial 43 with value: 0.6662327759252489.\n",
      "[I 2024-08-08 12:21:11,161] Trial 64 finished with value: 0.6639050171586376 and parameters: {'eta': 0.021441994112622785, 'max_depth': 8, 'subsample': 0.5397730581515722, 'colsample_bytree': 0.5466913283666897, 'gamma': 1.3756698662144846, 'min_child_weight': 7.250914363546968, 'lambda': 0.9713247698929011, 'alpha': 8.684832985832422}. Best is trial 43 with value: 0.6662327759252489.\n",
      "[I 2024-08-08 12:21:12,073] Trial 65 finished with value: 0.6614310790560249 and parameters: {'eta': 0.04115969516436285, 'max_depth': 7, 'subsample': 0.5257189297145358, 'colsample_bytree': 0.5164949855826155, 'gamma': 1.7452924732248807, 'min_child_weight': 5.8420919965951335, 'lambda': 1.6510773916772148, 'alpha': 9.616929871824853}. Best is trial 43 with value: 0.6662327759252489.\n",
      "[I 2024-08-08 12:21:13,067] Trial 66 finished with value: 0.6628781923473709 and parameters: {'eta': 0.036032217159136265, 'max_depth': 6, 'subsample': 0.5467775234893241, 'colsample_bytree': 0.5390888691812309, 'gamma': 0.36392093770465817, 'min_child_weight': 7.598674098090417, 'lambda': 1.031217737458806, 'alpha': 9.258673823540182}. Best is trial 43 with value: 0.6662327759252489.\n",
      "[I 2024-08-08 12:21:13,741] Trial 67 finished with value: 0.6634091406480896 and parameters: {'eta': 0.05521290930336662, 'max_depth': 8, 'subsample': 0.5154566220400613, 'colsample_bytree': 0.5560794127305889, 'gamma': 0.8730817565527949, 'min_child_weight': 8.918550541400293, 'lambda': 0.5556632951546657, 'alpha': 9.752828153192894}. Best is trial 43 with value: 0.6662327759252489.\n",
      "[I 2024-08-08 12:21:14,974] Trial 68 finished with value: 0.6626175619993874 and parameters: {'eta': 0.026366429808083285, 'max_depth': 7, 'subsample': 0.5000620074597468, 'colsample_bytree': 0.5132249131604321, 'gamma': 1.4440603768347062, 'min_child_weight': 6.8418811422951915, 'lambda': 1.9416759871370002, 'alpha': 9.995013142111866}. Best is trial 43 with value: 0.6662327759252489.\n",
      "[I 2024-08-08 12:21:15,546] Trial 69 finished with value: 0.6564531462156165 and parameters: {'eta': 0.10107393919361028, 'max_depth': 8, 'subsample': 0.5841663750330984, 'colsample_bytree': 0.5733242770520858, 'gamma': 1.8992733108158248, 'min_child_weight': 8.52360361561539, 'lambda': 2.829988408762953, 'alpha': 8.932760105399266}. Best is trial 43 with value: 0.6662327759252489.\n",
      "[I 2024-08-08 12:21:17,627] Trial 70 finished with value: 0.6585521692615935 and parameters: {'eta': 0.02071813469927535, 'max_depth': 4, 'subsample': 0.6608088753642101, 'colsample_bytree': 0.5528089214339754, 'gamma': 2.1296853368860433, 'min_child_weight': 9.231102294789478, 'lambda': 2.637504308069123, 'alpha': 3.946215549982852}. Best is trial 43 with value: 0.6662327759252489.\n",
      "[I 2024-08-08 12:21:20,366] Trial 71 finished with value: 0.6646399851878011 and parameters: {'eta': 0.010634450872761362, 'max_depth': 9, 'subsample': 0.5180068959102037, 'colsample_bytree': 0.5973440986782526, 'gamma': 0.32103118230637084, 'min_child_weight': 9.710650740956396, 'lambda': 0.34589123730306204, 'alpha': 9.551090922994899}. Best is trial 43 with value: 0.6662327759252489.\n",
      "[I 2024-08-08 12:21:22,850] Trial 72 finished with value: 0.6642006462131254 and parameters: {'eta': 0.010334838959767933, 'max_depth': 9, 'subsample': 0.5560113195596786, 'colsample_bytree': 0.6026151091581271, 'gamma': 1.1320199701204188, 'min_child_weight': 9.713071120285608, 'lambda': 0.5361653780077817, 'alpha': 9.34223045137033}. Best is trial 43 with value: 0.6662327759252489.\n",
      "[I 2024-08-08 12:21:23,858] Trial 73 finished with value: 0.6613335667350144 and parameters: {'eta': 0.032056029987148515, 'max_depth': 10, 'subsample': 0.5334395020363737, 'colsample_bytree': 0.5778095012204738, 'gamma': 0.328773046994181, 'min_child_weight': 9.298238980664385, 'lambda': 1.275082982789948, 'alpha': 9.094126630553435}. Best is trial 43 with value: 0.6662327759252489.\n",
      "[I 2024-08-08 12:21:24,690] Trial 74 finished with value: 0.6619320478794926 and parameters: {'eta': 0.04604336021119429, 'max_depth': 9, 'subsample': 0.5122844739841236, 'colsample_bytree': 0.5403250336423518, 'gamma': 1.0435368662270461, 'min_child_weight': 8.873672395058371, 'lambda': 0.5690292052317008, 'alpha': 9.687715843944249}. Best is trial 43 with value: 0.6662327759252489.\n",
      "[I 2024-08-08 12:21:26,002] Trial 75 finished with value: 0.6628270509316766 and parameters: {'eta': 0.019886763324189618, 'max_depth': 8, 'subsample': 0.5715456078058323, 'colsample_bytree': 0.6566478408891516, 'gamma': 0.21256683123408282, 'min_child_weight': 9.815097889830554, 'lambda': 3.5771839201831606, 'alpha': 9.39122427535005}. Best is trial 43 with value: 0.6662327759252489.\n",
      "[I 2024-08-08 12:21:26,408] Trial 76 finished with value: 0.6509049430828624 and parameters: {'eta': 0.2234975015933374, 'max_depth': 7, 'subsample': 0.5403054530615538, 'colsample_bytree': 0.6190567678771405, 'gamma': 8.791637949175112, 'min_child_weight': 9.48325115567801, 'lambda': 1.1670004660625841, 'alpha': 8.613748168849666}. Best is trial 43 with value: 0.6662327759252489.\n",
      "[I 2024-08-08 12:21:27,096] Trial 77 finished with value: 0.6596046394704362 and parameters: {'eta': 0.07311273613161393, 'max_depth': 8, 'subsample': 0.5255777866958089, 'colsample_bytree': 0.5003820900028603, 'gamma': 2.6968101613621336, 'min_child_weight': 9.159467774905877, 'lambda': 0.7515346062982023, 'alpha': 2.5065987430037717}. Best is trial 43 with value: 0.6662327759252489.\n",
      "[I 2024-08-08 12:21:28,043] Trial 78 finished with value: 0.6640572595424249 and parameters: {'eta': 0.038160196053903056, 'max_depth': 9, 'subsample': 0.6272301897673996, 'colsample_bytree': 0.5631889041514739, 'gamma': 0.015921934763395873, 'min_child_weight': 8.084143465727287, 'lambda': 3.187632711220753, 'alpha': 9.983444740324812}. Best is trial 43 with value: 0.6662327759252489.\n",
      "[I 2024-08-08 12:21:29,545] Trial 79 finished with value: 0.6642540057172397 and parameters: {'eta': 0.02809538844157715, 'max_depth': 6, 'subsample': 0.6029194713649284, 'colsample_bytree': 0.9357758282676016, 'gamma': 0.7717968827520247, 'min_child_weight': 8.781205310189442, 'lambda': 2.2359884799290626, 'alpha': 9.691190740871201}. Best is trial 43 with value: 0.6662327759252489.\n",
      "[I 2024-08-08 12:21:30,333] Trial 80 finished with value: 0.6625664670738576 and parameters: {'eta': 0.056946585745780126, 'max_depth': 10, 'subsample': 0.5609727355974601, 'colsample_bytree': 0.5229557175759654, 'gamma': 1.5628463732857059, 'min_child_weight': 8.510476859691591, 'lambda': 0.39243707545140527, 'alpha': 8.157512825199317}. Best is trial 43 with value: 0.6662327759252489.\n",
      "[I 2024-08-08 12:21:33,033] Trial 81 finished with value: 0.6648560197286073 and parameters: {'eta': 0.010298185376710253, 'max_depth': 9, 'subsample': 0.5161398654566051, 'colsample_bytree': 0.5846369682281954, 'gamma': 0.6202363002331781, 'min_child_weight': 8.205147837377453, 'lambda': 0.17051594554765667, 'alpha': 9.538017989682556}. Best is trial 43 with value: 0.6662327759252489.\n",
      "[I 2024-08-08 12:21:34,558] Trial 82 finished with value: 0.6624255203235341 and parameters: {'eta': 0.01700636302323609, 'max_depth': 9, 'subsample': 0.5457360078256519, 'colsample_bytree': 0.5894557584954647, 'gamma': 0.44402866095726, 'min_child_weight': 9.413772492501806, 'lambda': 0.8607881491973258, 'alpha': 8.964915015943166}. Best is trial 43 with value: 0.6662327759252489.\n",
      "[I 2024-08-08 12:21:36,901] Trial 83 finished with value: 0.6647021618731295 and parameters: {'eta': 0.010125376791785401, 'max_depth': 9, 'subsample': 0.512226457424106, 'colsample_bytree': 0.540330283415638, 'gamma': 1.2635922243432192, 'min_child_weight': 9.763804197956743, 'lambda': 1.4145274389259717, 'alpha': 9.392883831360164}. Best is trial 43 with value: 0.6662327759252489.\n",
      "[I 2024-08-08 12:21:38,237] Trial 84 finished with value: 0.6628439751790203 and parameters: {'eta': 0.02714348065862887, 'max_depth': 9, 'subsample': 0.5296582221988284, 'colsample_bytree': 0.5370207206097326, 'gamma': 1.2910291985830484, 'min_child_weight': 9.05536567725126, 'lambda': 1.5683380281810635, 'alpha': 5.775260741839535}. Best is trial 43 with value: 0.6662327759252489.\n",
      "[I 2024-08-08 12:21:39,981] Trial 85 finished with value: 0.6635501149718297 and parameters: {'eta': 0.01707254369572215, 'max_depth': 8, 'subsample': 0.5033452223294423, 'colsample_bytree': 0.5587229885529253, 'gamma': 2.22261092264217, 'min_child_weight': 6.956437854414121, 'lambda': 1.8701198054641563, 'alpha': 9.107974280971924}. Best is trial 43 with value: 0.6662327759252489.\n",
      "[I 2024-08-08 12:21:40,893] Trial 86 finished with value: 0.6631530564965757 and parameters: {'eta': 0.04414869692647788, 'max_depth': 7, 'subsample': 0.5737487794299932, 'colsample_bytree': 0.5474832942336982, 'gamma': 0.7766284114649425, 'min_child_weight': 6.381264587740331, 'lambda': 9.406430999800644, 'alpha': 8.650887190518112}. Best is trial 43 with value: 0.6662327759252489.\n",
      "[I 2024-08-08 12:21:41,937] Trial 87 finished with value: 0.663085272440614 and parameters: {'eta': 0.034770792906875646, 'max_depth': 10, 'subsample': 0.5569703965996285, 'colsample_bytree': 0.5137521933354183, 'gamma': 5.435413349830075, 'min_child_weight': 9.856484119586113, 'lambda': 3.708851339935486, 'alpha': 7.6675841759824745}. Best is trial 43 with value: 0.6662327759252489.\n",
      "[I 2024-08-08 12:21:43,448] Trial 88 finished with value: 0.6645599733454013 and parameters: {'eta': 0.02376166360814118, 'max_depth': 9, 'subsample': 0.5853724700038834, 'colsample_bytree': 0.5727948131412604, 'gamma': 1.8164503090050108, 'min_child_weight': 8.717956797086051, 'lambda': 4.790756321060626, 'alpha': 9.260485624674889}. Best is trial 43 with value: 0.6662327759252489.\n",
      "[I 2024-08-08 12:21:43,968] Trial 89 finished with value: 0.6550961266921455 and parameters: {'eta': 0.13363138361565896, 'max_depth': 8, 'subsample': 0.6434755408628215, 'colsample_bytree': 0.5324165030678825, 'gamma': 3.6197524042651334, 'min_child_weight': 7.640448061525578, 'lambda': 4.079556675896223, 'alpha': 9.812797056926987}. Best is trial 43 with value: 0.6662327759252489.\n",
      "[I 2024-08-08 12:21:44,715] Trial 90 finished with value: 0.6617397901731084 and parameters: {'eta': 0.06057219591573385, 'max_depth': 7, 'subsample': 0.5407644520989593, 'colsample_bytree': 0.6110820049429464, 'gamma': 0.9766808372765678, 'min_child_weight': 2.1662634331875408, 'lambda': 1.2351249045856703, 'alpha': 1.0107027860617885}. Best is trial 43 with value: 0.6662327759252489.\n",
      "[I 2024-08-08 12:21:47,051] Trial 91 finished with value: 0.6647340235845187 and parameters: {'eta': 0.01099193698001204, 'max_depth': 9, 'subsample': 0.5147932971569793, 'colsample_bytree': 0.5961423648620965, 'gamma': 0.4958246451091455, 'min_child_weight': 9.582978809771525, 'lambda': 0.22845986710822586, 'alpha': 9.526664203429142}. Best is trial 43 with value: 0.6662327759252489.\n",
      "[I 2024-08-08 12:21:49,507] Trial 92 finished with value: 0.6650488565459849 and parameters: {'eta': 0.01607598136773586, 'max_depth': 9, 'subsample': 0.5232327124215033, 'colsample_bytree': 0.5649611328938733, 'gamma': 3.207101030300374, 'min_child_weight': 9.381382619410752, 'lambda': 4.514069346998969, 'alpha': 9.433611094246645}. Best is trial 43 with value: 0.6662327759252489.\n",
      "[I 2024-08-08 12:21:51,174] Trial 93 finished with value: 0.6638132036885813 and parameters: {'eta': 0.016195189311301185, 'max_depth': 9, 'subsample': 0.5103273689866649, 'colsample_bytree': 0.5610616547118998, 'gamma': 3.144306024845103, 'min_child_weight': 9.455097343703931, 'lambda': 0.7047836816462131, 'alpha': 9.429171214235524}. Best is trial 43 with value: 0.6662327759252489.\n",
      "[I 2024-08-08 12:21:53,135] Trial 94 finished with value: 0.6652397707024662 and parameters: {'eta': 0.016259434565715998, 'max_depth': 9, 'subsample': 0.5241259351208961, 'colsample_bytree': 0.578818869442398, 'gamma': 4.268750640026848, 'min_child_weight': 9.137334113050736, 'lambda': 0.2604807246421146, 'alpha': 8.781412017770746}. Best is trial 43 with value: 0.6662327759252489.\n",
      "[I 2024-08-08 12:21:54,678] Trial 95 finished with value: 0.6637818148924347 and parameters: {'eta': 0.01915182906681331, 'max_depth': 9, 'subsample': 0.5239751692980347, 'colsample_bytree': 0.5957967505510997, 'gamma': 4.444644664822896, 'min_child_weight': 9.043307356595047, 'lambda': 0.14425413895615086, 'alpha': 8.889248778826328}. Best is trial 43 with value: 0.6662327759252489.\n",
      "[I 2024-08-08 12:21:55,882] Trial 96 finished with value: 0.6626772397999122 and parameters: {'eta': 0.027662736574156077, 'max_depth': 10, 'subsample': 0.5313062604056714, 'colsample_bytree': 0.5811453212949624, 'gamma': 4.950333134344094, 'min_child_weight': 8.24952383313819, 'lambda': 0.3659600579164304, 'alpha': 8.361168110651256}. Best is trial 43 with value: 0.6662327759252489.\n",
      "[I 2024-08-08 12:21:56,715] Trial 97 finished with value: 0.6611309750577926 and parameters: {'eta': 0.038889303783339685, 'max_depth': 9, 'subsample': 0.5649686330645911, 'colsample_bytree': 0.6289741578976771, 'gamma': 4.1230214063279025, 'min_child_weight': 8.480659059319468, 'lambda': 5.537067824005894, 'alpha': 9.111416498008934}. Best is trial 43 with value: 0.6662327759252489.\n",
      "[I 2024-08-08 12:21:57,194] Trial 98 finished with value: 0.6564170204423307 and parameters: {'eta': 0.16002377768274412, 'max_depth': 9, 'subsample': 0.5486267334419689, 'colsample_bytree': 0.6164147657716413, 'gamma': 3.856129932831884, 'min_child_weight': 7.942561204413431, 'lambda': 7.8833548193889325, 'alpha': 8.78913668960096}. Best is trial 43 with value: 0.6662327759252489.\n",
      "[I 2024-08-08 12:21:58,160] Trial 99 finished with value: 0.6641033272142591 and parameters: {'eta': 0.051332993342296185, 'max_depth': 10, 'subsample': 0.5224004675814772, 'colsample_bytree': 0.5668653172374862, 'gamma': 3.460015728538342, 'min_child_weight': 9.147375517405086, 'lambda': 6.4830772652645825, 'alpha': 9.796265932121257}. Best is trial 43 with value: 0.6662327759252489.\n"
     ]
    },
    {
     "name": "stdout",
     "output_type": "stream",
     "text": [
      "Best Hyperparameters:  {'eta': 0.02532227240864557, 'max_depth': 9, 'subsample': 0.5701902725252715, 'colsample_bytree': 0.5700791751417876, 'gamma': 4.468310078336034, 'min_child_weight': 9.562538361029706, 'lambda': 7.292064154574558, 'alpha': 9.313263852489994}\n",
      "Best R2:  0.6662327759252489\n"
     ]
    }
   ],
   "source": [
    "import sys\n",
    "sys.path.append('../')\n",
    "\n",
    "import optuna\n",
    "from sklearn.metrics import r2_score\n",
    "from sklearn.model_selection import train_test_split\n",
    "\n",
    "from src.preprocessing import preprocess_data, make_pipeline\n",
    "\n",
    "import xgboost\n",
    "from xgboost import XGBRegressor\n",
    "\n",
    "TRAIN_SIZE = 0.8\n",
    "\n",
    "def objective(trial):\n",
    "    \n",
    "    params = {\n",
    "        'objective': 'reg:squarederror',\n",
    "        'learning_rate': trial.suggest_float('eta', 0.01, 0.3),\n",
    "        'n_estimators': 100000,\n",
    "        'early_stopping_rounds': 100,\n",
    "        'max_depth': trial.suggest_int('max_depth', 3, 10),\n",
    "        'subsample': trial.suggest_float('subsample', 0.5, 1.0),\n",
    "        'colsample_bytree': trial.suggest_float('colsample_bytree', 0.5, 1.0),\n",
    "        'gamma': trial.suggest_float('gamma', 0.0, 10.0),\n",
    "        'min_child_weight': trial.suggest_float('min_child_weight', 0.1, 10.0),\n",
    "        'lambda': trial.suggest_float('lambda', 0.1, 10.0),\n",
    "        'alpha': trial.suggest_float('alpha', 0.0, 10.0),\n",
    "    }\n",
    "    \n",
    "    model = XGBRegressor(**params, random_state=0)\n",
    "    \n",
    "    Xtrain, Xval, Ytrain, Yval = train_test_split(X_train, y_train, train_size=TRAIN_SIZE, random_state=0) \n",
    "    \n",
    "    pipeline = make_pipeline(model)\n",
    "    \n",
    "    val_pipeline = pipeline[:-1]\n",
    "    val_pipeline.fit(Xtrain, Ytrain)\n",
    "    Xval_trans = val_pipeline.transform(Xval)\n",
    "    \n",
    "    pipeline.fit(Xtrain, Ytrain, xgb__eval_set=[(Xval_trans, Yval)], xgb__verbose=False)\n",
    "\n",
    "    y_pred = pipeline.predict(Xval)\n",
    "    r2 = r2_score(Yval, y_pred)\n",
    "    \n",
    "    return r2\n",
    "    \n",
    "\n",
    "X = preprocess_data()\n",
    "y = X.pop('PolyPwr')\n",
    "\n",
    "X_train, X_test, y_train, y_test = train_test_split(X, y, train_size=TRAIN_SIZE, random_state=0) \n",
    "\n",
    "study = optuna.create_study(direction='maximize')\n",
    "study.optimize(objective, n_trials=100)\n",
    "\n",
    "best_params = study.best_params\n",
    "best_r2 = study.best_value\n",
    "print(\"Best Hyperparameters: \", best_params)\n",
    "print(\"Best R2: \", best_r2)\n"
   ]
  },
  {
   "cell_type": "code",
   "execution_count": 10,
   "metadata": {},
   "outputs": [],
   "source": [
    "best_params.update({'objective': 'reg:squarederror', 'n_estimators': 100000, 'early_stopping_rounds': 100,})"
   ]
  },
  {
   "cell_type": "code",
   "execution_count": 11,
   "metadata": {},
   "outputs": [
    {
     "data": {
      "text/plain": [
       "{'eta': 0.02532227240864557,\n",
       " 'max_depth': 9,\n",
       " 'subsample': 0.5701902725252715,\n",
       " 'colsample_bytree': 0.5700791751417876,\n",
       " 'gamma': 4.468310078336034,\n",
       " 'min_child_weight': 9.562538361029706,\n",
       " 'lambda': 7.292064154574558,\n",
       " 'alpha': 9.313263852489994,\n",
       " 'objective': 'reg:squarederror',\n",
       " 'n_estimators': 100000,\n",
       " 'early_stopping_rounds': 100}"
      ]
     },
     "execution_count": 11,
     "metadata": {},
     "output_type": "execute_result"
    }
   ],
   "source": [
    "best_params"
   ]
  }
 ],
 "metadata": {
  "kernelspec": {
   "display_name": ".venv",
   "language": "python",
   "name": "python3"
  },
  "language_info": {
   "codemirror_mode": {
    "name": "ipython",
    "version": 3
   },
   "file_extension": ".py",
   "mimetype": "text/x-python",
   "name": "python",
   "nbconvert_exporter": "python",
   "pygments_lexer": "ipython3",
   "version": "3.12.4"
  }
 },
 "nbformat": 4,
 "nbformat_minor": 2
}
